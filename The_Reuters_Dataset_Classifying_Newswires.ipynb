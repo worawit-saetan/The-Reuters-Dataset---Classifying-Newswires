{
  "nbformat": 4,
  "nbformat_minor": 0,
  "metadata": {
    "colab": {
      "provenance": [],
      "collapsed_sections": [],
      "authorship_tag": "ABX9TyONO36z3OHtkMla/RIzgbEq",
      "include_colab_link": true
    },
    "kernelspec": {
      "name": "python3",
      "display_name": "Python 3"
    },
    "language_info": {
      "name": "python"
    }
  },
  "cells": [
    {
      "cell_type": "markdown",
      "metadata": {
        "id": "view-in-github",
        "colab_type": "text"
      },
      "source": [
        "<a href=\"https://colab.research.google.com/github/worawit-saetan/The-Reuters-Dataset---Classifying-Newswires/blob/main/The_Reuters_Dataset_Classifying_Newswires.ipynb\" target=\"_parent\"><img src=\"https://colab.research.google.com/assets/colab-badge.svg\" alt=\"Open In Colab\"/></a>"
      ]
    },
    {
      "cell_type": "markdown",
      "source": [
        "# The Reuters Dataset : Classifying newswires (a multiclass classification)\n",
        "We ’ll build a network to classify Reuters newswires into 46 mutually\n",
        "exclusive topics.\n",
        "\n",
        "*   load the Reuers dataset\n",
        "*   encoding  X_train and X_test\n",
        "*   create deep neural network model\n",
        "*   train and validate the model\n",
        "*   plot the accuracy and loss of the model\n",
        "\n",
        "\n",
        "\n",
        "\n",
        "\n"
      ],
      "metadata": {
        "id": "uX-MeRgZEPhG"
      }
    },
    {
      "cell_type": "code",
      "execution_count": null,
      "metadata": {
        "colab": {
          "base_uri": "https://localhost:8080/"
        },
        "id": "QgyC9DUrYNcS",
        "outputId": "caf96a67-fb53-4869-830c-1d8bc0090cea"
      },
      "outputs": [
        {
          "output_type": "stream",
          "name": "stdout",
          "text": [
            "Downloading data from https://storage.googleapis.com/tensorflow/tf-keras-datasets/reuters.npz\n",
            "2110848/2110848 [==============================] - 0s 0us/step\n"
          ]
        }
      ],
      "source": [
        "from keras.datasets import reuters\n",
        "(train_data, train_labels), (test_data, test_labels) = reuters.load_data(num_words=10000)"
      ]
    },
    {
      "cell_type": "code",
      "source": [
        "len(train_data)"
      ],
      "metadata": {
        "colab": {
          "base_uri": "https://localhost:8080/"
        },
        "id": "bsoKgN2bZeu5",
        "outputId": "3b72b991-b492-4ff1-e441-29933a12b698"
      },
      "execution_count": null,
      "outputs": [
        {
          "output_type": "execute_result",
          "data": {
            "text/plain": [
              "8982"
            ]
          },
          "metadata": {},
          "execution_count": 2
        }
      ]
    },
    {
      "cell_type": "code",
      "source": [
        "len(test_data)"
      ],
      "metadata": {
        "colab": {
          "base_uri": "https://localhost:8080/"
        },
        "id": "wQWkS5TEZh0v",
        "outputId": "074f1ab4-bfe0-4dd5-ed2c-6b72fbb099d4"
      },
      "execution_count": null,
      "outputs": [
        {
          "output_type": "execute_result",
          "data": {
            "text/plain": [
              "2246"
            ]
          },
          "metadata": {},
          "execution_count": 3
        }
      ]
    },
    {
      "cell_type": "code",
      "source": [
        "print(train_data[0])"
      ],
      "metadata": {
        "colab": {
          "base_uri": "https://localhost:8080/"
        },
        "id": "H6C9D_0nZjrN",
        "outputId": "326008bc-4a58-4f12-edcc-005e1bcdd7e9"
      },
      "execution_count": null,
      "outputs": [
        {
          "output_type": "stream",
          "name": "stdout",
          "text": [
            "[1, 2, 2, 8, 43, 10, 447, 5, 25, 207, 270, 5, 3095, 111, 16, 369, 186, 90, 67, 7, 89, 5, 19, 102, 6, 19, 124, 15, 90, 67, 84, 22, 482, 26, 7, 48, 4, 49, 8, 864, 39, 209, 154, 6, 151, 6, 83, 11, 15, 22, 155, 11, 15, 7, 48, 9, 4579, 1005, 504, 6, 258, 6, 272, 11, 15, 22, 134, 44, 11, 15, 16, 8, 197, 1245, 90, 67, 52, 29, 209, 30, 32, 132, 6, 109, 15, 17, 12]\n"
          ]
        }
      ]
    },
    {
      "cell_type": "code",
      "source": [
        "word_index = reuters.get_word_index()\n",
        "reverse_word_index = dict([(value, key) for (key, value) in word_index.items()])\n",
        "decoded_newswire = ' '.join([reverse_word_index.get(i - 3, '?') for i in\n",
        "train_data[0]])\n",
        "decoded_newswire"
      ],
      "metadata": {
        "colab": {
          "base_uri": "https://localhost:8080/",
          "height": 70
        },
        "id": "ZCFPqlC0Zq7H",
        "outputId": "8cd371c6-7db6-4010-cdaf-5ae1f512655d"
      },
      "execution_count": null,
      "outputs": [
        {
          "output_type": "execute_result",
          "data": {
            "text/plain": [
              "'? ? ? said as a result of its december acquisition of space co it expects earnings per share in 1987 of 1 15 to 1 30 dlrs per share up from 70 cts in 1986 the company said pretax net should rise to nine to 10 mln dlrs from six mln dlrs in 1986 and rental operation revenues to 19 to 22 mln dlrs from 12 5 mln dlrs it said cash flow per share this year should be 2 50 to three dlrs reuter 3'"
            ],
            "application/vnd.google.colaboratory.intrinsic+json": {
              "type": "string"
            }
          },
          "metadata": {},
          "execution_count": 7
        }
      ]
    },
    {
      "cell_type": "code",
      "source": [
        "reverse_word_index[2]"
      ],
      "metadata": {
        "colab": {
          "base_uri": "https://localhost:8080/",
          "height": 36
        },
        "id": "Mss0tW3UZ0U3",
        "outputId": "81a54172-233e-41d2-f166-1ddfdbdfeb06"
      },
      "execution_count": null,
      "outputs": [
        {
          "output_type": "execute_result",
          "data": {
            "text/plain": [
              "'of'"
            ],
            "application/vnd.google.colaboratory.intrinsic+json": {
              "type": "string"
            }
          },
          "metadata": {},
          "execution_count": 10
        }
      ]
    },
    {
      "cell_type": "code",
      "source": [
        "train_labels[0]"
      ],
      "metadata": {
        "colab": {
          "base_uri": "https://localhost:8080/"
        },
        "id": "HnDcFkbQag1A",
        "outputId": "e425e7a8-9c8f-4a6f-f639-76a96a80ae8d"
      },
      "execution_count": null,
      "outputs": [
        {
          "output_type": "execute_result",
          "data": {
            "text/plain": [
              "3"
            ]
          },
          "metadata": {},
          "execution_count": 11
        }
      ]
    },
    {
      "cell_type": "code",
      "source": [
        "import numpy as np\n",
        "def vectorize_sequences(sequences, dimension=10000):\n",
        "  results = np.zeros((len(sequences), dimension))\n",
        "  for i, sequence in enumerate(sequences):\n",
        "    results[i, sequence] = 1.\n",
        "  return results\n",
        "x_train = vectorize_sequences(train_data)\n",
        "x_test = vectorize_sequences(test_data)"
      ],
      "metadata": {
        "id": "uU1keRG0aohY"
      },
      "execution_count": null,
      "outputs": []
    },
    {
      "cell_type": "code",
      "source": [
        "train_labels"
      ],
      "metadata": {
        "colab": {
          "base_uri": "https://localhost:8080/"
        },
        "id": "7NrC4FeUa8ig",
        "outputId": "166108ab-4334-4ad2-ceac-6b23c81e7dc4"
      },
      "execution_count": null,
      "outputs": [
        {
          "output_type": "execute_result",
          "data": {
            "text/plain": [
              "array([ 3,  4,  3, ..., 25,  3, 25])"
            ]
          },
          "metadata": {},
          "execution_count": 13
        }
      ]
    },
    {
      "cell_type": "code",
      "source": [
        "from keras.utils import to_categorical\n",
        "\n",
        "one_hot_train_labels = to_categorical(train_labels)\n",
        "one_hot_test_labels = to_categorical(test_labels)"
      ],
      "metadata": {
        "id": "kTRS87dfb270"
      },
      "execution_count": null,
      "outputs": []
    },
    {
      "cell_type": "code",
      "source": [
        "one_hot_train_labels[0]"
      ],
      "metadata": {
        "colab": {
          "base_uri": "https://localhost:8080/"
        },
        "id": "JDnOEA1hcHwi",
        "outputId": "2fd2c3a9-f66f-4671-b05b-b18b49d282ad"
      },
      "execution_count": null,
      "outputs": [
        {
          "output_type": "execute_result",
          "data": {
            "text/plain": [
              "array([0., 0., 0., 1., 0., 0., 0., 0., 0., 0., 0., 0., 0., 0., 0., 0., 0.,\n",
              "       0., 0., 0., 0., 0., 0., 0., 0., 0., 0., 0., 0., 0., 0., 0., 0., 0.,\n",
              "       0., 0., 0., 0., 0., 0., 0., 0., 0., 0., 0., 0.], dtype=float32)"
            ]
          },
          "metadata": {},
          "execution_count": 18
        }
      ]
    },
    {
      "cell_type": "code",
      "source": [
        "from keras import models\n",
        "from keras import layers\n",
        "model = models.Sequential()\n",
        "\n",
        "model.add(layers.Dense(64, activation='relu', input_shape=(10000,)))\n",
        "model.add(layers.Dense(64, activation='relu'))\n",
        "model.add(layers.Dense(46, activation='softmax'))"
      ],
      "metadata": {
        "id": "n8OSj-kHcJR7"
      },
      "execution_count": null,
      "outputs": []
    },
    {
      "cell_type": "code",
      "source": [
        "model.compile(optimizer='rmsprop', loss='categorical_crossentropy', metrics=['accuracy'])"
      ],
      "metadata": {
        "id": "v8-jnMhIeqx5"
      },
      "execution_count": null,
      "outputs": []
    },
    {
      "cell_type": "code",
      "source": [
        "x_val = x_train[:1000]\n",
        "partial_x_train = x_train[1000:]\n",
        "y_val = one_hot_train_labels[:1000]\n",
        "partial_y_train = one_hot_train_labels[1000:]"
      ],
      "metadata": {
        "id": "K_VQG8i_et6Q"
      },
      "execution_count": null,
      "outputs": []
    },
    {
      "cell_type": "code",
      "source": [
        "partial_x_train.shape"
      ],
      "metadata": {
        "colab": {
          "base_uri": "https://localhost:8080/"
        },
        "id": "c9Qps_4OexvX",
        "outputId": "7ad42ea7-15fb-4b09-ae20-093dcc984e6c"
      },
      "execution_count": null,
      "outputs": [
        {
          "output_type": "execute_result",
          "data": {
            "text/plain": [
              "(7982, 10000)"
            ]
          },
          "metadata": {},
          "execution_count": 22
        }
      ]
    },
    {
      "cell_type": "code",
      "source": [
        "x_val.shape"
      ],
      "metadata": {
        "colab": {
          "base_uri": "https://localhost:8080/"
        },
        "id": "inGomWbDe0sw",
        "outputId": "84543475-2640-403b-8b88-ad9f57b45a86"
      },
      "execution_count": null,
      "outputs": [
        {
          "output_type": "execute_result",
          "data": {
            "text/plain": [
              "(1000, 10000)"
            ]
          },
          "metadata": {},
          "execution_count": 23
        }
      ]
    },
    {
      "cell_type": "code",
      "source": [
        "history = model.fit(partial_x_train, partial_y_train, epochs=20, batch_size=512, validation_data=(x_val, y_val))"
      ],
      "metadata": {
        "colab": {
          "base_uri": "https://localhost:8080/"
        },
        "id": "0gEXERIXe8Vg",
        "outputId": "f586e577-5080-4a61-bb06-564d74d0dce1"
      },
      "execution_count": null,
      "outputs": [
        {
          "output_type": "stream",
          "name": "stdout",
          "text": [
            "Epoch 1/20\n",
            "16/16 [==============================] - 2s 69ms/step - loss: 2.7506 - accuracy: 0.5252 - val_loss: 1.8197 - val_accuracy: 0.6480\n",
            "Epoch 2/20\n",
            "16/16 [==============================] - 1s 51ms/step - loss: 1.4634 - accuracy: 0.7151 - val_loss: 1.3177 - val_accuracy: 0.7140\n",
            "Epoch 3/20\n",
            "16/16 [==============================] - 1s 51ms/step - loss: 1.0533 - accuracy: 0.7869 - val_loss: 1.1396 - val_accuracy: 0.7580\n",
            "Epoch 4/20\n",
            "16/16 [==============================] - 1s 51ms/step - loss: 0.8243 - accuracy: 0.8311 - val_loss: 1.0363 - val_accuracy: 0.7810\n",
            "Epoch 5/20\n",
            "16/16 [==============================] - 1s 51ms/step - loss: 0.6566 - accuracy: 0.8680 - val_loss: 1.0006 - val_accuracy: 0.7900\n",
            "Epoch 6/20\n",
            "16/16 [==============================] - 1s 52ms/step - loss: 0.5229 - accuracy: 0.8961 - val_loss: 0.9904 - val_accuracy: 0.7830\n",
            "Epoch 7/20\n",
            "16/16 [==============================] - 1s 50ms/step - loss: 0.4218 - accuracy: 0.9137 - val_loss: 0.9127 - val_accuracy: 0.8090\n",
            "Epoch 8/20\n",
            "16/16 [==============================] - 1s 68ms/step - loss: 0.3474 - accuracy: 0.9292 - val_loss: 0.9141 - val_accuracy: 0.8050\n",
            "Epoch 9/20\n",
            "16/16 [==============================] - 1s 50ms/step - loss: 0.2848 - accuracy: 0.9377 - val_loss: 0.9301 - val_accuracy: 0.8080\n",
            "Epoch 10/20\n",
            "16/16 [==============================] - 1s 50ms/step - loss: 0.2406 - accuracy: 0.9464 - val_loss: 0.9236 - val_accuracy: 0.8120\n",
            "Epoch 11/20\n",
            "16/16 [==============================] - 1s 51ms/step - loss: 0.2127 - accuracy: 0.9468 - val_loss: 0.9237 - val_accuracy: 0.8230\n",
            "Epoch 12/20\n",
            "16/16 [==============================] - 1s 51ms/step - loss: 0.1835 - accuracy: 0.9525 - val_loss: 0.9719 - val_accuracy: 0.8000\n",
            "Epoch 13/20\n",
            "16/16 [==============================] - 1s 51ms/step - loss: 0.1729 - accuracy: 0.9519 - val_loss: 0.9833 - val_accuracy: 0.8180\n",
            "Epoch 14/20\n",
            "16/16 [==============================] - 1s 51ms/step - loss: 0.1524 - accuracy: 0.9548 - val_loss: 1.0105 - val_accuracy: 0.8070\n",
            "Epoch 15/20\n",
            "16/16 [==============================] - 1s 51ms/step - loss: 0.1439 - accuracy: 0.9548 - val_loss: 0.9811 - val_accuracy: 0.8180\n",
            "Epoch 16/20\n",
            "16/16 [==============================] - 1s 52ms/step - loss: 0.1310 - accuracy: 0.9575 - val_loss: 1.0503 - val_accuracy: 0.8030\n",
            "Epoch 17/20\n",
            "16/16 [==============================] - 1s 51ms/step - loss: 0.1291 - accuracy: 0.9567 - val_loss: 1.0430 - val_accuracy: 0.8090\n",
            "Epoch 18/20\n",
            "16/16 [==============================] - 1s 51ms/step - loss: 0.1195 - accuracy: 0.9587 - val_loss: 1.0886 - val_accuracy: 0.8050\n",
            "Epoch 19/20\n",
            "16/16 [==============================] - 1s 51ms/step - loss: 0.1154 - accuracy: 0.9573 - val_loss: 1.0521 - val_accuracy: 0.8060\n",
            "Epoch 20/20\n",
            "16/16 [==============================] - 1s 50ms/step - loss: 0.1116 - accuracy: 0.9585 - val_loss: 1.1026 - val_accuracy: 0.8050\n"
          ]
        }
      ]
    },
    {
      "cell_type": "code",
      "source": [
        "import matplotlib.pyplot as plt\n",
        "loss = history.history['loss']\n",
        "val_loss = history.history['val_loss']\n",
        "epochs = range(1, len(loss) + 1)\n",
        "plt.plot(epochs, loss, 'bo', label='Training loss')\n",
        "plt.plot(epochs, val_loss, 'b', label='Validation loss')\n",
        "plt.title('Training and validation loss')\n",
        "plt.xlabel('Epochs')\n",
        "plt.ylabel('Loss')\n",
        "plt.legend()\n",
        "plt.show()"
      ],
      "metadata": {
        "colab": {
          "base_uri": "https://localhost:8080/",
          "height": 295
        },
        "id": "n5qREdh6fLww",
        "outputId": "c6dd4c3a-1c16-44fd-e6af-bb059ded00c2"
      },
      "execution_count": null,
      "outputs": [
        {
          "output_type": "display_data",
          "data": {
            "text/plain": [
              "<Figure size 432x288 with 1 Axes>"
            ],
            "image/png": "[encoded data removed]"
          },
          "metadata": {
            "needs_background": "light"
          }
        }
      ]
    },
    {
      "cell_type": "code",
      "source": [
        "#plt.clf()\n",
        "acc = history.history['accuracy']\n",
        "val_acc = history.history['val_accuracy']\n",
        "plt.plot(epochs, acc, 'bo', label='Training acc')\n",
        "plt.plot(epochs, val_acc, 'b', label='Validation acc')\n",
        "plt.title('Training and validation accuracy')\n",
        "plt.xlabel('Epochs')\n",
        "plt.ylabel('Loss')\n",
        "plt.legend()\n",
        "plt.show()"
      ],
      "metadata": {
        "colab": {
          "base_uri": "https://localhost:8080/",
          "height": 295
        },
        "id": "cYGcjWAnfTI4",
        "outputId": "cb8963f7-0fd5-468e-8e1f-b919e769372b"
      },
      "execution_count": null,
      "outputs": [
        {
          "output_type": "display_data",
          "data": {
            "text/plain": [
              "<Figure size 432x288 with 1 Axes>"
            ],
            "image/png": "[encoded data removed]"
          },
          "metadata": {
            "needs_background": "light"
          }
        }
      ]
    },
    {
      "cell_type": "markdown",
      "source": [
        "The network begins to overfit after nine epochs. Let’s train a new network from\n",
        "scratch for nine epochs and then evaluate it on the test set."
      ],
      "metadata": {
        "id": "HcLrft2Mfjt7"
      }
    },
    {
      "cell_type": "code",
      "source": [
        "model = models.Sequential()\n",
        "model.add(layers.Dense(64, activation='relu', input_shape=(10000,)))\n",
        "model.add(layers.Dense(64, activation='relu'))\n",
        "model.add(layers.Dense(46, activation='softmax'))\n",
        "model.compile(optimizer='rmsprop', loss='categorical_crossentropy', metrics=['accuracy'])\n",
        "model.fit(partial_x_train, partial_y_train, epochs=9, batch_size=512, validation_data=(x_val, y_val))"
      ],
      "metadata": {
        "colab": {
          "base_uri": "https://localhost:8080/"
        },
        "id": "THdWbXGGfd2_",
        "outputId": "381469c4-6d15-47ed-e6a1-793db5aa7b37"
      },
      "execution_count": null,
      "outputs": [
        {
          "output_type": "stream",
          "name": "stdout",
          "text": [
            "Epoch 1/9\n",
            "16/16 [==============================] - 2s 63ms/step - loss: 2.5170 - accuracy: 0.5123 - val_loss: 1.7142 - val_accuracy: 0.6510\n",
            "Epoch 2/9\n",
            "16/16 [==============================] - 1s 51ms/step - loss: 1.4088 - accuracy: 0.7103 - val_loss: 1.2896 - val_accuracy: 0.7140\n",
            "Epoch 3/9\n",
            "16/16 [==============================] - 1s 51ms/step - loss: 1.0492 - accuracy: 0.7755 - val_loss: 1.1165 - val_accuracy: 0.7500\n",
            "Epoch 4/9\n",
            "16/16 [==============================] - 1s 50ms/step - loss: 0.8265 - accuracy: 0.8218 - val_loss: 1.0098 - val_accuracy: 0.7860\n",
            "Epoch 5/9\n",
            "16/16 [==============================] - 1s 51ms/step - loss: 0.6558 - accuracy: 0.8607 - val_loss: 0.9402 - val_accuracy: 0.8040\n",
            "Epoch 6/9\n",
            "16/16 [==============================] - 1s 51ms/step - loss: 0.5251 - accuracy: 0.8890 - val_loss: 0.9094 - val_accuracy: 0.8110\n",
            "Epoch 7/9\n",
            "16/16 [==============================] - 1s 51ms/step - loss: 0.4248 - accuracy: 0.9087 - val_loss: 0.8849 - val_accuracy: 0.8100\n",
            "Epoch 8/9\n",
            "16/16 [==============================] - 1s 51ms/step - loss: 0.3423 - accuracy: 0.9265 - val_loss: 0.8739 - val_accuracy: 0.8130\n",
            "Epoch 9/9\n",
            "16/16 [==============================] - 1s 49ms/step - loss: 0.2847 - accuracy: 0.9384 - val_loss: 0.8964 - val_accuracy: 0.8130\n"
          ]
        },
        {
          "output_type": "execute_result",
          "data": {
            "text/plain": [
              "<keras.callbacks.History at 0x7ff83c66a990>"
            ]
          },
          "metadata": {},
          "execution_count": 28
        }
      ]
    },
    {
      "cell_type": "code",
      "source": [
        "results = model.evaluate(x_test, one_hot_test_labels)\n",
        "results"
      ],
      "metadata": {
        "colab": {
          "base_uri": "https://localhost:8080/"
        },
        "id": "q3bWDyEbf40H",
        "outputId": "103a3e01-15cf-4a51-8343-6afd489c3e8a"
      },
      "execution_count": null,
      "outputs": [
        {
          "output_type": "stream",
          "name": "stdout",
          "text": [
            "71/71 [==============================] - 1s 7ms/step - loss: 0.9630 - accuracy: 0.7827\n"
          ]
        },
        {
          "output_type": "execute_result",
          "data": {
            "text/plain": [
              "[0.9630013704299927, 0.7827248573303223]"
            ]
          },
          "metadata": {},
          "execution_count": 29
        }
      ]
    },
    {
      "cell_type": "code",
      "source": [
        "predictions = model.predict(x_test)\n",
        "predictions"
      ],
      "metadata": {
        "colab": {
          "base_uri": "https://localhost:8080/"
        },
        "id": "frVwJMXtgo5v",
        "outputId": "6eb77267-2b0d-439e-d492-77ce214b4e19"
      },
      "execution_count": null,
      "outputs": [
        {
          "output_type": "stream",
          "name": "stdout",
          "text": [
            "71/71 [==============================] - 1s 6ms/step\n"
          ]
        },
        {
          "output_type": "execute_result",
          "data": {
            "text/plain": [
              "array([[8.3204883e-05, 3.4701596e-05, 2.3390543e-05, ..., 2.2158615e-06,\n",
              "        1.9869865e-06, 4.2970038e-07],\n",
              "       [1.6402043e-04, 1.3190194e-03, 4.0180697e-03, ..., 2.6286409e-06,\n",
              "        1.8784232e-05, 1.6661812e-06],\n",
              "       [1.5666921e-03, 7.4561232e-01, 4.9086087e-03, ..., 7.0870965e-04,\n",
              "        9.5614092e-04, 3.5976936e-04],\n",
              "       ...,\n",
              "       [2.7514086e-05, 9.9537967e-05, 6.6507050e-06, ..., 5.8088476e-06,\n",
              "        1.8689301e-06, 2.6336493e-06],\n",
              "       [1.4130517e-03, 6.6886753e-02, 4.5752977e-03, ..., 5.4388191e-04,\n",
              "        1.7559092e-04, 3.3068409e-05],\n",
              "       [1.6376926e-03, 6.0804796e-01, 2.2823805e-02, ..., 4.0237221e-04,\n",
              "        1.3064758e-03, 3.0220728e-04]], dtype=float32)"
            ]
          },
          "metadata": {},
          "execution_count": 32
        }
      ]
    },
    {
      "cell_type": "code",
      "source": [
        "predictions[0]"
      ],
      "metadata": {
        "colab": {
          "base_uri": "https://localhost:8080/"
        },
        "id": "N4nzICbo2dA5",
        "outputId": "32414e0c-68af-4c1e-959a-9429711a0c8d"
      },
      "execution_count": null,
      "outputs": [
        {
          "output_type": "execute_result",
          "data": {
            "text/plain": [
              "array([8.3204883e-05, 3.4701596e-05, 2.3390543e-05, 9.5319670e-01,\n",
              "       4.2396426e-02, 3.7898749e-06, 2.5752292e-06, 6.4819746e-05,\n",
              "       3.2035218e-04, 6.8721774e-06, 5.2569153e-06, 1.3231451e-04,\n",
              "       1.1208497e-05, 1.9601497e-04, 2.2861855e-04, 8.0500977e-06,\n",
              "       4.6265114e-04, 3.0214811e-05, 2.1868414e-05, 3.1432864e-04,\n",
              "       4.5909782e-04, 2.9873211e-04, 7.9360361e-05, 4.5687706e-05,\n",
              "       7.6431410e-05, 1.1198982e-04, 8.8883701e-07, 2.1810993e-05,\n",
              "       4.4421580e-05, 2.2404555e-04, 2.5288746e-05, 2.2252071e-04,\n",
              "       3.3164197e-05, 1.0295893e-06, 2.0026539e-05, 3.0022263e-06,\n",
              "       3.3040499e-04, 9.0969006e-06, 1.2785645e-05, 3.7358308e-04,\n",
              "       9.8789633e-06, 4.4451797e-05, 4.3378923e-06, 2.2158615e-06,\n",
              "       1.9869865e-06, 4.2970038e-07], dtype=float32)"
            ]
          },
          "metadata": {},
          "execution_count": 34
        }
      ]
    },
    {
      "cell_type": "code",
      "source": [
        "predictions[0].shape"
      ],
      "metadata": {
        "colab": {
          "base_uri": "https://localhost:8080/"
        },
        "id": "izi7GuHw2IdJ",
        "outputId": "6c85c8b2-9ea4-4bfb-b228-8a07356f8530"
      },
      "execution_count": null,
      "outputs": [
        {
          "output_type": "execute_result",
          "data": {
            "text/plain": [
              "(46,)"
            ]
          },
          "metadata": {},
          "execution_count": 33
        }
      ]
    },
    {
      "cell_type": "code",
      "source": [
        "np.argmax(predictions[0])"
      ],
      "metadata": {
        "colab": {
          "base_uri": "https://localhost:8080/"
        },
        "id": "9EqVe15g2bis",
        "outputId": "6670f645-5d8d-4e6a-ca03-850ff54692f9"
      },
      "execution_count": null,
      "outputs": [
        {
          "output_type": "execute_result",
          "data": {
            "text/plain": [
              "3"
            ]
          },
          "metadata": {},
          "execution_count": 39
        }
      ]
    },
    {
      "cell_type": "markdown",
      "source": [
        "because the final outputs are 46-dimensional, we should\n",
        "avoid intermediate layers with many fewer than 46 hidden units. Now let’s see what happens when we introduce an information bottleneck by having intermediate layers that are significantly less than 46-dimensional for example, 4-dimensional."
      ],
      "metadata": {
        "id": "ZB4XodQl9z9Z"
      }
    },
    {
      "cell_type": "code",
      "source": [
        "model = models.Sequential()\n",
        "model.add(layers.Dense(64, activation='relu', input_shape=(10000,)))\n",
        "model.add(layers.Dense(4, activation='relu'))\n",
        "model.add(layers.Dense(46, activation='softmax'))\n",
        "model.compile(optimizer='rmsprop',\n",
        "loss='categorical_crossentropy',\n",
        "metrics=['accuracy'])\n",
        "model.fit(partial_x_train, partial_y_train, epochs=20, batch_size=128, validation_data=(x_val, y_val))"
      ],
      "metadata": {
        "colab": {
          "base_uri": "https://localhost:8080/"
        },
        "id": "hyXW4iNG8WBZ",
        "outputId": "a6af36c5-59b6-4078-aabd-cfe9172a1e84"
      },
      "execution_count": null,
      "outputs": [
        {
          "output_type": "stream",
          "name": "stdout",
          "text": [
            "Epoch 1/20\n",
            "63/63 [==============================] - 3s 38ms/step - loss: 2.7546 - accuracy: 0.3398 - val_loss: 2.0329 - val_accuracy: 0.3740\n",
            "Epoch 2/20\n",
            "63/63 [==============================] - 1s 20ms/step - loss: 1.7629 - accuracy: 0.5223 - val_loss: 1.5900 - val_accuracy: 0.6060\n",
            "Epoch 3/20\n",
            "63/63 [==============================] - 1s 20ms/step - loss: 1.4278 - accuracy: 0.6263 - val_loss: 1.4359 - val_accuracy: 0.6260\n",
            "Epoch 4/20\n",
            "63/63 [==============================] - 1s 19ms/step - loss: 1.2621 - accuracy: 0.6661 - val_loss: 1.3737 - val_accuracy: 0.6540\n",
            "Epoch 5/20\n",
            "63/63 [==============================] - 1s 19ms/step - loss: 1.1513 - accuracy: 0.6972 - val_loss: 1.3456 - val_accuracy: 0.6660\n",
            "Epoch 6/20\n",
            "63/63 [==============================] - 1s 19ms/step - loss: 1.0676 - accuracy: 0.7091 - val_loss: 1.3379 - val_accuracy: 0.6680\n",
            "Epoch 7/20\n",
            "63/63 [==============================] - 1s 19ms/step - loss: 1.0035 - accuracy: 0.7139 - val_loss: 1.3501 - val_accuracy: 0.6610\n",
            "Epoch 8/20\n",
            "63/63 [==============================] - 1s 20ms/step - loss: 0.9528 - accuracy: 0.7212 - val_loss: 1.3737 - val_accuracy: 0.6670\n",
            "Epoch 9/20\n",
            "63/63 [==============================] - 1s 20ms/step - loss: 0.9087 - accuracy: 0.7271 - val_loss: 1.3887 - val_accuracy: 0.6820\n",
            "Epoch 10/20\n",
            "63/63 [==============================] - 1s 19ms/step - loss: 0.8727 - accuracy: 0.7370 - val_loss: 1.4076 - val_accuracy: 0.6750\n",
            "Epoch 11/20\n",
            "63/63 [==============================] - 1s 20ms/step - loss: 0.8390 - accuracy: 0.7466 - val_loss: 1.4507 - val_accuracy: 0.6780\n",
            "Epoch 12/20\n",
            "63/63 [==============================] - 1s 20ms/step - loss: 0.8059 - accuracy: 0.7648 - val_loss: 1.4941 - val_accuracy: 0.6840\n",
            "Epoch 13/20\n",
            "63/63 [==============================] - 1s 20ms/step - loss: 0.7754 - accuracy: 0.7771 - val_loss: 1.5138 - val_accuracy: 0.6870\n",
            "Epoch 14/20\n",
            "63/63 [==============================] - 1s 20ms/step - loss: 0.7484 - accuracy: 0.7804 - val_loss: 1.5427 - val_accuracy: 0.6860\n",
            "Epoch 15/20\n",
            "63/63 [==============================] - 1s 19ms/step - loss: 0.7239 - accuracy: 0.7830 - val_loss: 1.5712 - val_accuracy: 0.6850\n",
            "Epoch 16/20\n",
            "63/63 [==============================] - 1s 20ms/step - loss: 0.7041 - accuracy: 0.7880 - val_loss: 1.6432 - val_accuracy: 0.6810\n",
            "Epoch 17/20\n",
            "63/63 [==============================] - 1s 20ms/step - loss: 0.6857 - accuracy: 0.7905 - val_loss: 1.6183 - val_accuracy: 0.6830\n",
            "Epoch 18/20\n",
            "63/63 [==============================] - 1s 19ms/step - loss: 0.6717 - accuracy: 0.7965 - val_loss: 1.7141 - val_accuracy: 0.6790\n",
            "Epoch 19/20\n",
            "63/63 [==============================] - 1s 19ms/step - loss: 0.6560 - accuracy: 0.8011 - val_loss: 1.8211 - val_accuracy: 0.6790\n",
            "Epoch 20/20\n",
            "63/63 [==============================] - 1s 19ms/step - loss: 0.6422 - accuracy: 0.8031 - val_loss: 1.8784 - val_accuracy: 0.6830\n"
          ]
        },
        {
          "output_type": "execute_result",
          "data": {
            "text/plain": [
              "<keras.callbacks.History at 0x7ff83a1e5550>"
            ]
          },
          "metadata": {},
          "execution_count": 59
        }
      ]
    },
    {
      "cell_type": "code",
      "source": [
        "results = model.evaluate(x_test, one_hot_test_labels)\n",
        "results"
      ],
      "metadata": {
        "colab": {
          "base_uri": "https://localhost:8080/"
        },
        "id": "xcWbqfye9-Tw",
        "outputId": "8843dedc-5b72-4ddb-d280-d9c83dedd66e"
      },
      "execution_count": null,
      "outputs": [
        {
          "output_type": "stream",
          "name": "stdout",
          "text": [
            "71/71 [==============================] - 0s 6ms/step - loss: 2.2173 - accuracy: 0.6576\n"
          ]
        },
        {
          "output_type": "execute_result",
          "data": {
            "text/plain": [
              "[2.217287540435791, 0.6576135158538818]"
            ]
          },
          "metadata": {},
          "execution_count": 60
        }
      ]
    },
    {
      "cell_type": "markdown",
      "source": [
        "The network now peaks at 65% validation accuracy, an 13% absolute drop. \n",
        "\n",
        "This drop is mostly due to the fact that we are trying to compress a lot of information (enough information to recover the separation hyperplanes of 46 classes) into an intermediate space that is too low-dimensional."
      ],
      "metadata": {
        "id": "xgf0f86zCuYr"
      }
    }
  ]
}